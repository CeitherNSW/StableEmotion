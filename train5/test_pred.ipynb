{
 "cells": [
  {
   "cell_type": "code",
   "execution_count": 12,
   "metadata": {
    "collapsed": true
   },
   "outputs": [],
   "source": [
    "from ultralytics import YOLO"
   ]
  },
  {
   "cell_type": "markdown",
   "source": [
    "### Load pretrained model -- best-perfomanced"
   ],
   "metadata": {
    "collapsed": false
   }
  },
  {
   "cell_type": "code",
   "execution_count": 4,
   "outputs": [],
   "source": [
    "model = YOLO('weights/best.pt')\n",
    "source = '../9517proj_sources/valid/valid'"
   ],
   "metadata": {
    "collapsed": false
   }
  },
  {
   "cell_type": "markdown",
   "source": [
    "### use the pretrained model to make predictions on the validation set"
   ],
   "metadata": {
    "collapsed": false
   }
  },
  {
   "cell_type": "code",
   "execution_count": 7,
   "outputs": [
    {
     "name": "stderr",
     "output_type": "stream",
     "text": [
      "\n",
      "image 1/72 C:\\Users\\Ceither\\Desktop\\9517\\train5\\..\\9517proj_sources\\valid\\valid\\image_id_000.jpg: 640x640 1 penguins, 1191.0ms\n",
      "image 2/72 C:\\Users\\Ceither\\Desktop\\9517\\train5\\..\\9517proj_sources\\valid\\valid\\image_id_001.jpg: 640x640 1 penguins, 1 turtle, 1159.9ms\n",
      "image 3/72 C:\\Users\\Ceither\\Desktop\\9517\\train5\\..\\9517proj_sources\\valid\\valid\\image_id_002.jpg: 640x640 1 turtle, 1130.3ms\n",
      "image 4/72 C:\\Users\\Ceither\\Desktop\\9517\\train5\\..\\9517proj_sources\\valid\\valid\\image_id_003.jpg: 640x640 1 penguins, 1 turtle, 1125.1ms\n",
      "image 5/72 C:\\Users\\Ceither\\Desktop\\9517\\train5\\..\\9517proj_sources\\valid\\valid\\image_id_004.jpg: 640x640 1 penguins, 1108.1ms\n",
      "image 6/72 C:\\Users\\Ceither\\Desktop\\9517\\train5\\..\\9517proj_sources\\valid\\valid\\image_id_005.jpg: 640x640 1 penguins, 1121.0ms\n",
      "image 7/72 C:\\Users\\Ceither\\Desktop\\9517\\train5\\..\\9517proj_sources\\valid\\valid\\image_id_006.jpg: 640x640 1 turtle, 1159.1ms\n",
      "image 8/72 C:\\Users\\Ceither\\Desktop\\9517\\train5\\..\\9517proj_sources\\valid\\valid\\image_id_007.jpg: 640x640 1 penguins, 1127.9ms\n",
      "image 9/72 C:\\Users\\Ceither\\Desktop\\9517\\train5\\..\\9517proj_sources\\valid\\valid\\image_id_008.jpg: 640x640 1 penguins, 1138.4ms\n",
      "image 10/72 C:\\Users\\Ceither\\Desktop\\9517\\train5\\..\\9517proj_sources\\valid\\valid\\image_id_009.jpg: 640x640 1 penguins, 1117.6ms\n",
      "image 11/72 C:\\Users\\Ceither\\Desktop\\9517\\train5\\..\\9517proj_sources\\valid\\valid\\image_id_010.jpg: 640x640 1 turtle, 1138.6ms\n",
      "image 12/72 C:\\Users\\Ceither\\Desktop\\9517\\train5\\..\\9517proj_sources\\valid\\valid\\image_id_011.jpg: 640x640 1 penguins, 1 turtle, 1132.9ms\n",
      "image 13/72 C:\\Users\\Ceither\\Desktop\\9517\\train5\\..\\9517proj_sources\\valid\\valid\\image_id_012.jpg: 640x640 1 turtle, 1144.3ms\n",
      "image 14/72 C:\\Users\\Ceither\\Desktop\\9517\\train5\\..\\9517proj_sources\\valid\\valid\\image_id_013.jpg: 640x640 1 turtle, 1123.7ms\n",
      "image 15/72 C:\\Users\\Ceither\\Desktop\\9517\\train5\\..\\9517proj_sources\\valid\\valid\\image_id_014.jpg: 640x640 1 penguins, 1127.6ms\n",
      "image 16/72 C:\\Users\\Ceither\\Desktop\\9517\\train5\\..\\9517proj_sources\\valid\\valid\\image_id_015.jpg: 640x640 1 penguins, 1 turtle, 1118.5ms\n",
      "image 17/72 C:\\Users\\Ceither\\Desktop\\9517\\train5\\..\\9517proj_sources\\valid\\valid\\image_id_016.jpg: 640x640 1 turtle, 1138.6ms\n",
      "image 18/72 C:\\Users\\Ceither\\Desktop\\9517\\train5\\..\\9517proj_sources\\valid\\valid\\image_id_017.jpg: 640x640 1 penguins, 1142.1ms\n",
      "image 19/72 C:\\Users\\Ceither\\Desktop\\9517\\train5\\..\\9517proj_sources\\valid\\valid\\image_id_018.jpg: 640x640 1 turtle, 1160.8ms\n",
      "image 20/72 C:\\Users\\Ceither\\Desktop\\9517\\train5\\..\\9517proj_sources\\valid\\valid\\image_id_019.jpg: 640x640 1 penguins, 1 turtle, 1170.6ms\n",
      "image 21/72 C:\\Users\\Ceither\\Desktop\\9517\\train5\\..\\9517proj_sources\\valid\\valid\\image_id_020.jpg: 640x640 1 penguins, 1 turtle, 1105.9ms\n",
      "image 22/72 C:\\Users\\Ceither\\Desktop\\9517\\train5\\..\\9517proj_sources\\valid\\valid\\image_id_021.jpg: 640x640 1 turtle, 1104.0ms\n",
      "image 23/72 C:\\Users\\Ceither\\Desktop\\9517\\train5\\..\\9517proj_sources\\valid\\valid\\image_id_022.jpg: 640x640 1 turtle, 1132.8ms\n",
      "image 24/72 C:\\Users\\Ceither\\Desktop\\9517\\train5\\..\\9517proj_sources\\valid\\valid\\image_id_023.jpg: 640x640 1 penguins, 1108.1ms\n",
      "image 25/72 C:\\Users\\Ceither\\Desktop\\9517\\train5\\..\\9517proj_sources\\valid\\valid\\image_id_024.jpg: 640x640 1 penguins, 1122.9ms\n",
      "image 26/72 C:\\Users\\Ceither\\Desktop\\9517\\train5\\..\\9517proj_sources\\valid\\valid\\image_id_025.jpg: 640x640 1 penguins, 1130.6ms\n",
      "image 27/72 C:\\Users\\Ceither\\Desktop\\9517\\train5\\..\\9517proj_sources\\valid\\valid\\image_id_026.jpg: 640x640 1 turtle, 1114.6ms\n",
      "image 28/72 C:\\Users\\Ceither\\Desktop\\9517\\train5\\..\\9517proj_sources\\valid\\valid\\image_id_027.jpg: 640x640 1 turtle, 1141.7ms\n",
      "image 29/72 C:\\Users\\Ceither\\Desktop\\9517\\train5\\..\\9517proj_sources\\valid\\valid\\image_id_028.jpg: 640x640 1 penguins, 1116.8ms\n",
      "image 30/72 C:\\Users\\Ceither\\Desktop\\9517\\train5\\..\\9517proj_sources\\valid\\valid\\image_id_029.jpg: 640x640 1 penguins, 1110.6ms\n",
      "image 31/72 C:\\Users\\Ceither\\Desktop\\9517\\train5\\..\\9517proj_sources\\valid\\valid\\image_id_030.jpg: 640x640 1 turtle, 1110.6ms\n",
      "image 32/72 C:\\Users\\Ceither\\Desktop\\9517\\train5\\..\\9517proj_sources\\valid\\valid\\image_id_031.jpg: 640x640 1 turtle, 1113.7ms\n",
      "image 33/72 C:\\Users\\Ceither\\Desktop\\9517\\train5\\..\\9517proj_sources\\valid\\valid\\image_id_032.jpg: 640x640 1 penguins, 1076.8ms\n",
      "image 34/72 C:\\Users\\Ceither\\Desktop\\9517\\train5\\..\\9517proj_sources\\valid\\valid\\image_id_033.jpg: 640x640 1 turtle, 1118.8ms\n",
      "image 35/72 C:\\Users\\Ceither\\Desktop\\9517\\train5\\..\\9517proj_sources\\valid\\valid\\image_id_034.jpg: 640x640 1 turtle, 1117.3ms\n",
      "image 36/72 C:\\Users\\Ceither\\Desktop\\9517\\train5\\..\\9517proj_sources\\valid\\valid\\image_id_035.jpg: 640x640 1 turtle, 1149.2ms\n",
      "image 37/72 C:\\Users\\Ceither\\Desktop\\9517\\train5\\..\\9517proj_sources\\valid\\valid\\image_id_036.jpg: 640x640 2 turtles, 1120.1ms\n",
      "image 38/72 C:\\Users\\Ceither\\Desktop\\9517\\train5\\..\\9517proj_sources\\valid\\valid\\image_id_037.jpg: 640x640 1 penguins, 1 turtle, 1098.3ms\n",
      "image 39/72 C:\\Users\\Ceither\\Desktop\\9517\\train5\\..\\9517proj_sources\\valid\\valid\\image_id_038.jpg: 640x640 3 penguinss, 1 turtle, 1100.3ms\n",
      "image 40/72 C:\\Users\\Ceither\\Desktop\\9517\\train5\\..\\9517proj_sources\\valid\\valid\\image_id_039.jpg: 640x640 1 penguins, 1 turtle, 1125.9ms\n",
      "image 41/72 C:\\Users\\Ceither\\Desktop\\9517\\train5\\..\\9517proj_sources\\valid\\valid\\image_id_040.jpg: 640x640 1 turtle, 1089.9ms\n",
      "image 42/72 C:\\Users\\Ceither\\Desktop\\9517\\train5\\..\\9517proj_sources\\valid\\valid\\image_id_041.jpg: 640x640 1 turtle, 1117.1ms\n",
      "image 43/72 C:\\Users\\Ceither\\Desktop\\9517\\train5\\..\\9517proj_sources\\valid\\valid\\image_id_042.jpg: 640x640 1 penguins, 1092.0ms\n",
      "image 44/72 C:\\Users\\Ceither\\Desktop\\9517\\train5\\..\\9517proj_sources\\valid\\valid\\image_id_043.jpg: 640x640 1 turtle, 1111.0ms\n",
      "image 45/72 C:\\Users\\Ceither\\Desktop\\9517\\train5\\..\\9517proj_sources\\valid\\valid\\image_id_044.jpg: 640x640 1 turtle, 1114.9ms\n",
      "image 46/72 C:\\Users\\Ceither\\Desktop\\9517\\train5\\..\\9517proj_sources\\valid\\valid\\image_id_045.jpg: 640x640 1 turtle, 1096.4ms\n",
      "image 47/72 C:\\Users\\Ceither\\Desktop\\9517\\train5\\..\\9517proj_sources\\valid\\valid\\image_id_046.jpg: 640x640 1 penguins, 1106.1ms\n",
      "image 48/72 C:\\Users\\Ceither\\Desktop\\9517\\train5\\..\\9517proj_sources\\valid\\valid\\image_id_047.jpg: 640x640 1 turtle, 1113.0ms\n",
      "image 49/72 C:\\Users\\Ceither\\Desktop\\9517\\train5\\..\\9517proj_sources\\valid\\valid\\image_id_048.jpg: 640x640 1 penguins, 1142.8ms\n",
      "image 50/72 C:\\Users\\Ceither\\Desktop\\9517\\train5\\..\\9517proj_sources\\valid\\valid\\image_id_049.jpg: 640x640 1 penguins, 1131.4ms\n",
      "image 51/72 C:\\Users\\Ceither\\Desktop\\9517\\train5\\..\\9517proj_sources\\valid\\valid\\image_id_050.jpg: 640x640 1 penguins, 1112.8ms\n",
      "image 52/72 C:\\Users\\Ceither\\Desktop\\9517\\train5\\..\\9517proj_sources\\valid\\valid\\image_id_051.jpg: 640x640 1 penguins, 1111.9ms\n",
      "image 53/72 C:\\Users\\Ceither\\Desktop\\9517\\train5\\..\\9517proj_sources\\valid\\valid\\image_id_052.jpg: 640x640 1 turtle, 1114.5ms\n",
      "image 54/72 C:\\Users\\Ceither\\Desktop\\9517\\train5\\..\\9517proj_sources\\valid\\valid\\image_id_053.jpg: 640x640 1 turtle, 1138.3ms\n",
      "image 55/72 C:\\Users\\Ceither\\Desktop\\9517\\train5\\..\\9517proj_sources\\valid\\valid\\image_id_054.jpg: 640x640 1 penguins, 1093.0ms\n",
      "image 56/72 C:\\Users\\Ceither\\Desktop\\9517\\train5\\..\\9517proj_sources\\valid\\valid\\image_id_055.jpg: 640x640 1 penguins, 1101.4ms\n",
      "image 57/72 C:\\Users\\Ceither\\Desktop\\9517\\train5\\..\\9517proj_sources\\valid\\valid\\image_id_056.jpg: 640x640 1 penguins, 1104.2ms\n",
      "image 58/72 C:\\Users\\Ceither\\Desktop\\9517\\train5\\..\\9517proj_sources\\valid\\valid\\image_id_057.jpg: 640x640 1 penguins, 1112.5ms\n",
      "image 59/72 C:\\Users\\Ceither\\Desktop\\9517\\train5\\..\\9517proj_sources\\valid\\valid\\image_id_058.jpg: 640x640 1 penguins, 1 turtle, 1113.6ms\n",
      "image 60/72 C:\\Users\\Ceither\\Desktop\\9517\\train5\\..\\9517proj_sources\\valid\\valid\\image_id_059.jpg: 640x640 1 turtle, 1098.3ms\n",
      "image 61/72 C:\\Users\\Ceither\\Desktop\\9517\\train5\\..\\9517proj_sources\\valid\\valid\\image_id_060.jpg: 640x640 1 turtle, 1111.8ms\n",
      "image 62/72 C:\\Users\\Ceither\\Desktop\\9517\\train5\\..\\9517proj_sources\\valid\\valid\\image_id_061.jpg: 640x640 1 penguins, 1106.1ms\n",
      "image 63/72 C:\\Users\\Ceither\\Desktop\\9517\\train5\\..\\9517proj_sources\\valid\\valid\\image_id_062.jpg: 640x640 2 penguinss, 1097.9ms\n",
      "image 64/72 C:\\Users\\Ceither\\Desktop\\9517\\train5\\..\\9517proj_sources\\valid\\valid\\image_id_063.jpg: 640x640 1 penguins, 1117.7ms\n",
      "image 65/72 C:\\Users\\Ceither\\Desktop\\9517\\train5\\..\\9517proj_sources\\valid\\valid\\image_id_064.jpg: 640x640 1 penguins, 1113.9ms\n",
      "image 66/72 C:\\Users\\Ceither\\Desktop\\9517\\train5\\..\\9517proj_sources\\valid\\valid\\image_id_065.jpg: 640x640 1 turtle, 1130.6ms\n",
      "image 67/72 C:\\Users\\Ceither\\Desktop\\9517\\train5\\..\\9517proj_sources\\valid\\valid\\image_id_066.jpg: 640x640 1 turtle, 1093.4ms\n",
      "image 68/72 C:\\Users\\Ceither\\Desktop\\9517\\train5\\..\\9517proj_sources\\valid\\valid\\image_id_067.jpg: 640x640 1 turtle, 1104.4ms\n",
      "image 69/72 C:\\Users\\Ceither\\Desktop\\9517\\train5\\..\\9517proj_sources\\valid\\valid\\image_id_068.jpg: 640x640 1 penguins, 1097.9ms\n",
      "image 70/72 C:\\Users\\Ceither\\Desktop\\9517\\train5\\..\\9517proj_sources\\valid\\valid\\image_id_069.jpg: 640x640 1 penguins, 1136.4ms\n",
      "image 71/72 C:\\Users\\Ceither\\Desktop\\9517\\train5\\..\\9517proj_sources\\valid\\valid\\image_id_070.jpg: 640x640 1 turtle, 1111.7ms\n",
      "image 72/72 C:\\Users\\Ceither\\Desktop\\9517\\train5\\..\\9517proj_sources\\valid\\valid\\image_id_071.jpg: 640x640 1 turtle, 1123.3ms\n",
      "Speed: 3.6ms preprocess, 1120.2ms inference, 0.8ms postprocess per image at shape (1, 3, 640, 640)\n",
      "Results saved to \u001B[1mruns\\detect\\predict\u001B[0m\n",
      "72 labels saved to runs\\detect\\predict\\labels\n"
     ]
    }
   ],
   "source": [
    "results = model.predict(source=source, save=True, save_txt=True)\n",
    "# results = model.predict(source=img, stream=True)"
   ],
   "metadata": {
    "collapsed": false
   }
  },
  {
   "cell_type": "markdown",
   "source": [
    "### get the bboxes and class-number with highest confidence"
   ],
   "metadata": {
    "collapsed": false
   }
  },
  {
   "cell_type": "code",
   "execution_count": 2,
   "outputs": [],
   "source": [
    "import os"
   ],
   "metadata": {
    "collapsed": false
   }
  },
  {
   "cell_type": "code",
   "execution_count": 3,
   "outputs": [
    {
     "name": "stdout",
     "output_type": "stream",
     "text": [
      "runs\\detect\\predict\\labels\\image_id_000.txt\n"
     ]
    }
   ],
   "source": [
    "path = 'runs\\detect\\predict\\labels'\n",
    "file_list = os.listdir(path)\n",
    "for i in range(len(file_list)):\n",
    "    file_list[i] = os.path.join(path, file_list[i])\n",
    "file_list.sort()\n",
    "print(file_list[0])\n"
   ],
   "metadata": {
    "collapsed": false
   }
  },
  {
   "cell_type": "code",
   "execution_count": 22,
   "outputs": [
    {
     "name": "stdout",
     "output_type": "stream",
     "text": [
      "[[223, 93, 293, 517], [212, 167, 427, 288], [1, 176, 558, 328], [3, 177, 586, 351], [162, 136, 320, 467], [5, 117, 441, 461], [60, 160, 486, 305], [188, 253, 250, 268], [375, 236, 184, 302], [364, 223, 137, 246], [151, 164, 484, 365], [131, 270, 351, 118], [132, 53, 507, 364], [97, 352, 423, 211], [156, 114, 305, 525], [365, 190, 251, 217], [100, 166, 493, 264], [59, 170, 481, 469], [0, 64, 640, 325], [110, 204, 512, 223], [152, 123, 378, 378], [160, 263, 330, 332], [1, 226, 416, 195], [155, 250, 357, 279], [43, 138, 264, 385], [32, 214, 607, 188], [4, 133, 417, 318], [251, 166, 387, 220], [227, 258, 228, 114], [193, 227, 353, 234], [52, 128, 467, 399], [171, 294, 290, 141], [78, 178, 405, 351], [73, 307, 369, 182], [230, 330, 117, 65], [154, 159, 327, 311], [0, 182, 594, 281], [260, 295, 93, 178], [181, 160, 145, 336], [172, 184, 467, 236], [96, 255, 394, 320], [228, 231, 330, 187], [316, 252, 202, 256], [97, 79, 480, 478], [252, 216, 272, 192], [180, 204, 279, 204], [129, 152, 274, 314], [199, 198, 238, 231], [224, 171, 347, 389], [239, 186, 150, 218], [5, 0, 610, 523], [101, 133, 365, 392], [174, 244, 236, 134], [143, 193, 212, 224], [222, 247, 226, 222], [171, 49, 348, 526], [179, 251, 56, 130], [258, 129, 378, 396], [215, 344, 303, 259], [89, 186, 434, 274], [199, 137, 436, 328], [247, 197, 155, 322], [23, 207, 459, 324], [3, 164, 322, 328], [258, 196, 278, 300], [138, 93, 418, 180], [8, 290, 441, 171], [190, 284, 289, 169], [57, 225, 205, 277], [160, 108, 352, 325], [13, 85, 548, 459], [213, 36, 344, 327]]\n",
      "[1, 1, 2, 1, 1, 1, 2, 1, 1, 1, 2, 2, 2, 2, 1, 2, 2, 1, 2, 2, 1, 2, 2, 1, 1, 1, 2, 2, 1, 1, 2, 2, 1, 2, 2, 2, 2, 1, 1, 1, 2, 2, 1, 2, 2, 2, 1, 2, 1, 1, 1, 1, 2, 2, 1, 1, 1, 1, 1, 2, 2, 1, 1, 1, 1, 2, 2, 2, 1, 1, 2, 2]\n",
      "72\n",
      "72\n"
     ]
    }
   ],
   "source": [
    "coords = []\n",
    "classes = []\n",
    "# iter = 0\n",
    "for i in file_list:\n",
    "    with open(i, 'r') as f:\n",
    "        lines = f.readlines()\n",
    "        tmp = lines[0][:-1].split(' ')\n",
    "        coords.append(tmp[1:])\n",
    "        classes.append(int(tmp[0]) + 1)\n",
    "    # iter += 1\n",
    "    # print(iter)\n",
    "# for i in coords:\n",
    "# 请注意，这些循环现在已经从文件读取的循环中移出\n",
    "for i in coords:\n",
    "    i[0] = int(float(i[0]) * 640)\n",
    "    i[1] = int(float(i[1]) * 640)\n",
    "    i[2] = int(float(i[2]) * 640)\n",
    "    i[3] = int(float(i[3]) * 640)\n",
    "\n",
    "for i in range(len(coords)):\n",
    "    coords[i][0] = int(coords[i][0] - coords[i][2]/2)\n",
    "    coords[i][1] = int(coords[i][1] - coords[i][3]/2)\n",
    "\n",
    "\n",
    "\n",
    "\n",
    "print(coords)\n",
    "print(classes)\n",
    "\n"
   ],
   "metadata": {
    "collapsed": false
   }
  },
  {
   "cell_type": "code",
   "execution_count": 25,
   "outputs": [
    {
     "name": "stdout",
     "output_type": "stream",
     "text": [
      "model: yolov8x, epochs: 100, batch_size = 16, acc: 0.9027777777777778\n"
     ]
    }
   ],
   "source": [
    "f_p_truth = '../9517proj_sources/valid_annotations'\n",
    "with open(f_p_truth, 'r') as label_info_truth:\n",
    "    label_info_truth = eval(label_info_truth.read())\n",
    "catelog = []\n",
    "for i in label_info_truth:\n",
    "    catelog.append(i['category_id'])\n",
    "\n",
    "cnt = 0\n",
    "for i in range(len(classes)):\n",
    "    if classes[i] == catelog[i]:\n",
    "        cnt += 1\n",
    "print(\"model: yolov8x, epochs: 100, batch_size = 16, acc:\", cnt/len(classes))"
   ],
   "metadata": {
    "collapsed": false
   }
  },
  {
   "cell_type": "markdown",
   "source": [],
   "metadata": {
    "collapsed": false
   }
  },
  {
   "cell_type": "code",
   "execution_count": 6,
   "outputs": [
    {
     "name": "stdout",
     "output_type": "stream",
     "text": [
      "[[223, 93, 293, 517]]\n",
      "['0']\n"
     ]
    }
   ],
   "source": [],
   "metadata": {
    "collapsed": false
   }
  },
  {
   "cell_type": "code",
   "execution_count": null,
   "outputs": [],
   "source": [],
   "metadata": {
    "collapsed": false
   }
  }
 ],
 "metadata": {
  "kernelspec": {
   "display_name": "Python 3",
   "language": "python",
   "name": "python3"
  },
  "language_info": {
   "codemirror_mode": {
    "name": "ipython",
    "version": 2
   },
   "file_extension": ".py",
   "mimetype": "text/x-python",
   "name": "python",
   "nbconvert_exporter": "python",
   "pygments_lexer": "ipython2",
   "version": "2.7.6"
  }
 },
 "nbformat": 4,
 "nbformat_minor": 0
}
