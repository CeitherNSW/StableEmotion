{
 "cells": [
  {
   "cell_type": "code",
   "execution_count": 1,
   "outputs": [],
   "source": [
    "import cv2\n",
    "import numpy as np\n",
    "import matplotlib.pyplot as plt\n",
    "import os\n",
    "import tqdm as tqdm"
   ],
   "metadata": {
    "collapsed": false,
    "ExecuteTime": {
     "end_time": "2023-07-17T04:41:25.934403Z",
     "start_time": "2023-07-17T04:41:25.930220Z"
    }
   }
  },
  {
   "cell_type": "code",
   "execution_count": 8,
   "outputs": [
    {
     "name": "stdout",
     "output_type": "stream",
     "text": [
      "9517proj_sources/train/image_id_000.jpg\n",
      "<class 'str'>\n",
      "9517proj_sources/valid/valid/image_id_000.jpg\n",
      "<class 'str'>\n"
     ]
    }
   ],
   "source": [
    "dir_path = '9517proj_sources/train'\n",
    "test_path = '9517proj_sources/valid/valid'\n",
    "file_list = os.listdir(dir_path)\n",
    "test_list = os.listdir(test_path)\n",
    "for i in range(len(file_list)):\n",
    "    file_list[i] = os.path.join(dir_path, file_list[i])\n",
    "file_list.sort()\n",
    "for i in range(len(test_list)):\n",
    "    test_list[i] = os.path.join(test_path, test_list[i])\n",
    "test_list.sort()\n",
    "print(file_list[0])\n",
    "print(type(file_list[0]))\n",
    "print(test_list[0])\n",
    "print(type(test_list[0]))"
   ],
   "metadata": {
    "collapsed": false,
    "ExecuteTime": {
     "end_time": "2023-07-17T03:39:28.041163Z",
     "start_time": "2023-07-17T03:39:28.035171Z"
    }
   }
  },
  {
   "cell_type": "code",
   "execution_count": 19,
   "outputs": [
    {
     "name": "stdout",
     "output_type": "stream",
     "text": [
      "<class 'numpy.ndarray'>\n",
      "(640, 640, 3)\n",
      "uint8\n",
      "[143 149 156]\n"
     ]
    }
   ],
   "source": [
    "img = cv2.imread('9517proj_sources/train/image_id_000.jpg', cv2.COLOR_BGR2RGB)\n",
    "print(type(img))\n",
    "print(img.shape)\n",
    "print(img.dtype)\n",
    "print(img[319,319])"
   ],
   "metadata": {
    "collapsed": false,
    "ExecuteTime": {
     "end_time": "2023-07-17T02:38:53.384917Z",
     "start_time": "2023-07-17T02:38:53.365334Z"
    }
   }
  },
  {
   "cell_type": "code",
   "execution_count": 66,
   "outputs": [
    {
     "name": "stdout",
     "output_type": "stream",
     "text": [
      "<class 'list'>\n",
      "{'id': 199, 'image_id': 199, 'category_id': 2, 'bbox': [29, 155, 199, 125], 'area': 24875, 'segmentation': [], 'iscrowd': 0}\n",
      "<class 'list'>\n",
      "{'id': 65, 'image_id': 65, 'category_id': 2, 'bbox': [137, 93, 421, 185], 'area': 77885, 'segmentation': [], 'iscrowd': 0}\n"
     ]
    }
   ],
   "source": [
    "f_p = '9517proj_sources/train_annotations'\n",
    "f_p_truth = '9517proj_sources/valid_annotations'\n",
    "with open(f_p, 'r') as label_info:\n",
    "    label_info = eval(label_info.read())\n",
    "    # print(list(lable_info))\n",
    "    # print(label_info)\n",
    "    print(type(label_info))\n",
    "    print(label_info[199])\n",
    "with open(f_p_truth, 'r') as label_info_truth:\n",
    "    label_info_truth = eval(label_info_truth.read())\n",
    "    # print(list(lable_info))\n",
    "    # print(label_info)\n",
    "    print(type(label_info_truth))\n",
    "    print(label_info_truth[65])"
   ],
   "metadata": {
    "collapsed": false,
    "ExecuteTime": {
     "end_time": "2023-07-17T03:37:39.723852Z",
     "start_time": "2023-07-17T03:37:39.717643Z"
    }
   }
  },
  {
   "cell_type": "code",
   "execution_count": 152,
   "outputs": [
    {
     "name": "stdout",
     "output_type": "stream",
     "text": [
      "[119, 25, 205, 606]\n",
      "500\n"
     ]
    }
   ],
   "source": [
    "bboxes = []\n",
    "valid_bboxes = []\n",
    "for i in label_info:\n",
    "    bboxes.append(i['bbox'])\n",
    "for i in label_info_truth:\n",
    "    valid_bboxes.append(i['bbox'])\n",
    "print(bboxes[0])\n",
    "print(len(bboxes))"
   ],
   "metadata": {
    "collapsed": false,
    "ExecuteTime": {
     "end_time": "2023-07-17T05:25:11.472868Z",
     "start_time": "2023-07-17T05:25:11.466792Z"
    }
   }
  },
  {
   "cell_type": "code",
   "execution_count": 58,
   "outputs": [],
   "source": [
    "catelog = []\n",
    "for i in label_info:\n",
    "    catelog.append(i['category_id'])\n"
   ],
   "metadata": {
    "collapsed": false,
    "ExecuteTime": {
     "end_time": "2023-07-17T03:23:29.731724Z",
     "start_time": "2023-07-17T03:23:29.728370Z"
    }
   }
  },
  {
   "cell_type": "code",
   "execution_count": 64,
   "outputs": [],
   "source": [
    "def find_corner(x_min, y_min, width, height):\n",
    "    x_max = x_min + width\n",
    "    y_max = y_min + height\n",
    "    return [x_min, y_min, x_max, y_max]"
   ],
   "metadata": {
    "collapsed": false,
    "ExecuteTime": {
     "end_time": "2023-07-17T03:31:20.968598Z",
     "start_time": "2023-07-17T03:31:20.967900Z"
    }
   }
  },
  {
   "cell_type": "code",
   "execution_count": 38,
   "outputs": [
    {
     "name": "stdout",
     "output_type": "stream",
     "text": [
      "500\n"
     ]
    }
   ],
   "source": [
    "corners = []\n",
    "for i in bboxes:\n",
    "    corner = find_corner(i[0], i[1], i[2], i[3])\n",
    "    corners.append(corner)\n",
    "print(len(corners))"
   ],
   "metadata": {
    "collapsed": false,
    "ExecuteTime": {
     "end_time": "2023-07-17T03:02:47.623338Z",
     "start_time": "2023-07-17T03:02:47.618417Z"
    }
   }
  },
  {
   "cell_type": "code",
   "execution_count": 125,
   "outputs": [],
   "source": [
    "def draw_rectangle(img, corner):\n",
    "    x_min, y_min, x_max, y_max = corner\n",
    "    cv2.rectangle(img, (x_min, y_min), (x_max, y_max), (0, 0, 255), 2)\n",
    "    return img"
   ],
   "metadata": {
    "collapsed": false,
    "ExecuteTime": {
     "end_time": "2023-07-17T04:39:39.330363Z",
     "start_time": "2023-07-17T04:39:39.318751Z"
    }
   }
  },
  {
   "cell_type": "code",
   "execution_count": 130,
   "outputs": [],
   "source": [
    "def draw_rectangle_off_background(img, corner):\n",
    "    x_min, y_min, x_max, y_max = corner\n",
    "    cv2.rectangle(img, (x_min, y_min), (x_max, y_max), (0, 0, 255, 255), 2)\n",
    "    return img"
   ],
   "metadata": {
    "collapsed": false,
    "ExecuteTime": {
     "end_time": "2023-07-17T04:41:52.397710Z",
     "start_time": "2023-07-17T04:41:52.383193Z"
    }
   }
  },
  {
   "cell_type": "code",
   "execution_count": 63,
   "outputs": [
    {
     "name": "stderr",
     "output_type": "stream",
     "text": [
      "100%|██████████| 500/500 [00:01<00:00, 423.14it/s]\n"
     ]
    }
   ],
   "source": [
    "for i in tqdm.tqdm(range(len(file_list))):\n",
    "    text1 = \"Penguin\"\n",
    "    text2 = \"Turtle\"\n",
    "    img = cv2.imread(file_list[i], cv2.COLOR_BGR2RGB)\n",
    "    img = draw_rectangle(img, corners[i])\n",
    "    (text1_width, text1_height), _ = cv2.getTextSize(text1, cv2.FONT_HERSHEY_SIMPLEX, 0.5, 1)\n",
    "    (text2_width, text2_height), _ = cv2.getTextSize(text2, cv2.FONT_HERSHEY_SIMPLEX, 0.5, 1)\n",
    "    position1 = (corners[i][2] - text1_width - 10, corners[i][3] - text1_height - 10)\n",
    "    position2 = (corners[i][2] - text2_width - 10, corners[i][3] - text2_height - 10)\n",
    "    if catelog[i] == 1:\n",
    "        cv2.putText(img, text1, position1, cv2.FONT_HERSHEY_SIMPLEX, 0.5, (0, 0, 255), 2)\n",
    "    else:\n",
    "        cv2.putText(img, text2, position2, cv2.FONT_HERSHEY_SIMPLEX, 0.5, (0, 0, 255), 2)\n",
    "    cv2.imwrite('9517proj_sources/train_with_frame_and_label/image_id_{}.jpg'.format(i), img)"
   ],
   "metadata": {
    "collapsed": false,
    "ExecuteTime": {
     "end_time": "2023-07-17T03:30:51.347788Z",
     "start_time": "2023-07-17T03:30:50.170641Z"
    }
   }
  },
  {
   "cell_type": "code",
   "execution_count": 142,
   "outputs": [],
   "source": [
    "cooorners = []\n",
    "def find_corners_off_background(img):\n",
    "    het, wid, _ = img.shape\n",
    "    # row_with_nonzero_alpha = -9999\n",
    "    # col_with_nonzero_alpha = -9999\n",
    "    rows = []\n",
    "    cols = []\n",
    "    for i in range(het):\n",
    "        for j in range(wid):\n",
    "            if img[i][j][3] != 0:\n",
    "                # row_with_nonzero_alpha = i\n",
    "                rows.append(i)\n",
    "                break\n",
    "\n",
    "    for k in range(wid):\n",
    "        for l in range(het):\n",
    "            if img[l][k][3] != 0:\n",
    "                # col_with_nonzero_alpha = k\n",
    "                cols.append(k)\n",
    "                break\n",
    "\n",
    "\n",
    "    # print(rows[0], rows[-1])\n",
    "    # print()\n",
    "    # print(cols[0], cols[-1])\n",
    "    xmi = cols[0]\n",
    "    xma = cols[-1]\n",
    "    ymi = rows[0]\n",
    "\n",
    "    yma = rows[-1]\n",
    "\n",
    "    return [xmi, ymi, xma, yma]\n",
    "\n"
   ],
   "metadata": {
    "collapsed": false,
    "ExecuteTime": {
     "end_time": "2023-07-17T05:01:49.299614Z",
     "start_time": "2023-07-17T05:01:49.276146Z"
    }
   }
  },
  {
   "cell_type": "code",
   "execution_count": 140,
   "outputs": [
    {
     "data": {
      "text/plain": "<Figure size 640x480 with 1 Axes>",
      "image/png": "[encoded data removed]"
     },
     "metadata": {},
     "output_type": "display_data"
    }
   ],
   "source": [
    "pic1 = cv2.imread(\"9517proj_sources/off test/image_id_000.png\", cv2.IMREAD_UNCHANGED)\n",
    "het, wid, _ = pic1.shape\n",
    "# row_with_nonzero_alpha = -9999\n",
    "# col_with_nonzero_alpha = -9999\n",
    "rows = []\n",
    "cols = []\n",
    "for i in range(het):\n",
    "    for j in range(wid):\n",
    "        if pic1[i][j][3] != 0:\n",
    "            # row_with_nonzero_alpha = i\n",
    "            rows.append(i)\n",
    "            break\n",
    "\n",
    "for k in range(wid):\n",
    "    for l in range(het):\n",
    "        if pic1[l][k][3] != 0:\n",
    "            # col_with_nonzero_alpha = k\n",
    "            cols.append(k)\n",
    "            break\n",
    "\n",
    "\n",
    "# print(rows[0], rows[-1])\n",
    "# print()\n",
    "# print(cols[0], cols[-1])\n",
    "xmi = cols[0]\n",
    "xma = cols[-1]\n",
    "ymi = rows[0]\n",
    "\n",
    "yma = rows[-1]\n",
    "coooners = [xmi, ymi, xma, yma]\n",
    "# print(xmi, ymi, xma, yma)\n",
    "pic_test = draw_rectangle_off_background(pic1, coooners)\n",
    "\n",
    "plt.imshow(pic_test)\n",
    "plt.show()\n",
    "\n",
    "# if row_with_nonzero_alpha != -9999:\n",
    "#     print(\"最上方的第一个非透明像素所在的行数：\", row_with_nonzero_alpha)\n",
    "# else:\n",
    "#     print('no')\n",
    "# if col_with_nonzero_alpha != -9999:\n",
    "#     print('leftest', col_with_nonzero_alpha)\n",
    "# else:\n",
    "#     print('no')"
   ],
   "metadata": {
    "collapsed": false,
    "ExecuteTime": {
     "end_time": "2023-07-17T04:57:39.831910Z",
     "start_time": "2023-07-17T04:57:39.171024Z"
    }
   }
  },
  {
   "cell_type": "code",
   "execution_count": 138,
   "outputs": [
    {
     "name": "stdout",
     "output_type": "stream",
     "text": [
      "73\n",
      ".DS_Store\n",
      "72\n",
      "9517proj_sources/off test/image_id_000.png\n"
     ]
    }
   ],
   "source": [
    "off_bg_path = '9517proj_sources/off test'\n",
    "off_bg_list = os.listdir(off_bg_path)\n",
    "print(len(off_bg_list))\n",
    "print(sorted(off_bg_list)[0])\n",
    "#something was hidden in the folder need to delete from the list\n",
    "for i in range(len(off_bg_list)):\n",
    "    off_bg_list[i] = os.path.join(off_bg_path, off_bg_list[i])\n",
    "off_bg_list.sort()\n",
    "off_bg_list = off_bg_list[1:]\n",
    "print(len(off_bg_list))\n",
    "print(off_bg_list[0])"
   ],
   "metadata": {
    "collapsed": false,
    "ExecuteTime": {
     "end_time": "2023-07-17T04:48:52.326702Z",
     "start_time": "2023-07-17T04:48:52.313503Z"
    }
   }
  },
  {
   "cell_type": "code",
   "execution_count": 143,
   "outputs": [
    {
     "name": "stderr",
     "output_type": "stream",
     "text": [
      "100%|██████████| 72/72 [00:31<00:00,  2.29it/s]\n"
     ]
    }
   ],
   "source": [
    "ans_corners = []\n",
    "for i in tqdm.tqdm(range(len(off_bg_list))):\n",
    "    img = cv2.imread(off_bg_list[i], cv2.IMREAD_UNCHANGED)\n",
    "    corner = find_corners_off_background(img)\n",
    "    ans_corners.append(corner)\n",
    "    img = draw_rectangle_off_background(img, corner)\n",
    "    cv2.imwrite(\"9517proj_sources/valid_off_background_with_frame/image_id_{}.png\".format(i), img)"
   ],
   "metadata": {
    "collapsed": false,
    "ExecuteTime": {
     "end_time": "2023-07-17T05:02:25.559567Z",
     "start_time": "2023-07-17T05:01:54.142136Z"
    }
   }
  },
  {
   "cell_type": "code",
   "execution_count": 154,
   "outputs": [
    {
     "name": "stdout",
     "output_type": "stream",
     "text": [
      "[225, 94, 521, 614]\n",
      "[227, 93, 525, 618]\n"
     ]
    }
   ],
   "source": [
    "res_boxes = []\n",
    "print(ans_corners[0])\n",
    "for i in valid_bboxes:\n",
    "    res_boxes.append(find_corner(i[0], i[1], i[2], i[3]))\n",
    "print(res_boxes[0])"
   ],
   "metadata": {
    "collapsed": false,
    "ExecuteTime": {
     "end_time": "2023-07-17T05:27:18.257376Z",
     "start_time": "2023-07-17T05:27:18.253418Z"
    }
   }
  },
  {
   "cell_type": "code",
   "execution_count": 2,
   "outputs": [],
   "source": [
    "##Calculate cosine similarity\n",
    "def cosine_similarity(vector_test,vector_pred):\n",
    "    dot = 0\n",
    "    norm_of_test = 0\n",
    "    norm_of_pred = 0\n",
    "    for i in range(len(vector_pred)):\n",
    "        dot += vector_test[i]*vector_pred[i]\n",
    "        norm_of_test += (vector_test[i]**2)\n",
    "        norm_of_pred += (vector_pred[i]**2)\n",
    "    norm_of_test = norm_of_test**0.5\n",
    "    norm_of_pred = norm_of_pred**0.5\n",
    "    if (norm_of_test==0 or norm_of_pred==0):\n",
    "        return 1\n",
    "    result = dot/(norm_of_test*norm_of_pred)\n",
    "    return result"
   ],
   "metadata": {
    "collapsed": false
   }
  },
  {
   "cell_type": "code",
   "execution_count": 3,
   "outputs": [],
   "source": [
    "def all_one_D_train():\n",
    "    result = []\n",
    "    file_list = os.listdir(\"9517proj_sources/off\")\n",
    "    for i in range(len(file_list)):\n",
    "        file_list[i] = os.path.join(\"9517proj_sources/off\", file_list[i])\n",
    "    for file in file_list:\n",
    "        one_D_train_image_B = []\n",
    "        one_D_train_image_G = []\n",
    "        one_D_train_image_R = []\n",
    "        one_D_train_image_T = []\n",
    "        train_image_matrix = cv2.imread(file,cv2.IMREAD_UNCHANGED)\n",
    "        train_image_matrix = cv2.resize(train_image_matrix,(64,64))\n",
    "        for i in range(len(train_image_matrix)):\n",
    "            for j in range(len(train_image_matrix[i])):\n",
    "                one_D_train_image_B.append(train_image_matrix[i][j][0])\n",
    "                one_D_train_image_G.append(train_image_matrix[i][j][1])\n",
    "                one_D_train_image_R.append(train_image_matrix[i][j][2])\n",
    "                one_D_train_image_T.append(train_image_matrix[i][j][3])\n",
    "        result.append([one_D_train_image_B,one_D_train_image_G,one_D_train_image_R,one_D_train_image_T])\n",
    "    return result\n",
    "\n",
    "all_file_one_d_train_matrix = all_one_D_train()\n",
    "\n"
   ],
   "metadata": {
    "collapsed": false
   }
  },
  {
   "cell_type": "code",
   "execution_count": 36,
   "outputs": [],
   "source": [
    "def one_d_target(file):\n",
    "\n",
    "    target_file_matrix = cv2.imread(file,cv2.IMREAD_UNCHANGED)\n",
    "    target_file_matrix = cv2.resize(target_file_matrix,(64,64))\n",
    "    one_D_target_image_B = []\n",
    "    one_D_target_image_G = []\n",
    "    one_D_target_image_R = []\n",
    "    one_D_target_image_T = []\n",
    "    for i in range(len(target_file_matrix)):\n",
    "        for j in range(len(target_file_matrix[i])):\n",
    "            one_D_target_image_B.append(target_file_matrix[i][j][0])\n",
    "            one_D_target_image_G.append(target_file_matrix[i][j][1])\n",
    "            one_D_target_image_R.append(target_file_matrix[i][j][2])\n",
    "            one_D_target_image_T.append(target_file_matrix[i][j][3])\n",
    "    return [one_D_target_image_B,one_D_target_image_G,one_D_target_image_R,one_D_target_image_T]\n",
    "\n",
    "all_file_one_d_target_matrix = one_d_target(\"9517proj_sources/off test/image_id_034.png\")"
   ],
   "metadata": {
    "collapsed": false
   }
  },
  {
   "cell_type": "code",
   "execution_count": 37,
   "outputs": [
    {
     "name": "stderr",
     "output_type": "stream",
     "text": [
      "/var/folders/1n/pdk52r396lv_3lksmg91dk840000gn/T/ipykernel_66539/221479904.py:7: RuntimeWarning: overflow encountered in ubyte_scalars\n",
      "  dot += vector_test[i]*vector_pred[i]\n"
     ]
    }
   ],
   "source": [
    "def calculate_image_cosine_similarity(all_matrix,target_matrix):\n",
    "    result = []\n",
    "    for single in all_matrix:\n",
    "        temp_result = []\n",
    "        temp_result.append(cosine_similarity(single[0],target_matrix[0]))\n",
    "        temp_result.append(cosine_similarity(single[1],target_matrix[1]))\n",
    "        temp_result.append(cosine_similarity(single[2],target_matrix[2]))\n",
    "        temp_result.append(cosine_similarity(single[3],target_matrix[3]))\n",
    "        result.append(temp_result)\n",
    "    return result\n",
    "\n",
    "k = 5\n",
    "tuple_list = []\n",
    "temp = calculate_image_cosine_similarity(all_file_one_d_train_matrix,all_file_one_d_target_matrix)\n",
    "for i in range(len(temp)):\n",
    "    tuple_list.append((i,sum(temp[i])))\n",
    "\n",
    "result = sorted(tuple_list, key = lambda x:x[1],reverse = True)\n",
    "\n",
    "vote = {'1':0,'2':0}\n",
    "\n",
    "\n",
    "f_p = '9517proj_sources/train_annotations'\n",
    "with open(f_p, 'r') as label_info:\n",
    "    label_info = eval(label_info.read())\n",
    "\n",
    "\n",
    "\n"
   ],
   "metadata": {
    "collapsed": false
   }
  },
  {
   "cell_type": "code",
   "execution_count": 38,
   "outputs": [
    {
     "name": "stdout",
     "output_type": "stream",
     "text": [
      "{'1': 3, '2': 2}\n",
      "1 penguin\n"
     ]
    }
   ],
   "source": [
    "for i in range(len(result[:k])):\n",
    "    if label_info[result[i][0]]['category_id'] == 1:\n",
    "        vote['1'] += 1\n",
    "    else:\n",
    "        vote['2'] += 1\n",
    "\n",
    "print(vote)\n",
    "if vote['1']>= vote['2']:\n",
    "    print(1,\"penguin\")\n",
    "else:\n",
    "    print(2,\"turtle\")\n",
    "\n",
    "\n"
   ],
   "metadata": {
    "collapsed": false
   }
  },
  {
   "cell_type": "code",
   "execution_count": 47,
   "outputs": [
    {
     "name": "stdout",
     "output_type": "stream",
     "text": [
      "9517proj_sources/off test/image_id_000.png\n"
     ]
    },
    {
     "name": "stderr",
     "output_type": "stream",
     "text": [
      "/var/folders/1n/pdk52r396lv_3lksmg91dk840000gn/T/ipykernel_66539/221479904.py:7: RuntimeWarning: overflow encountered in ubyte_scalars\n",
      "  dot += vector_test[i]*vector_pred[i]\n"
     ]
    },
    {
     "name": "stdout",
     "output_type": "stream",
     "text": [
      "{'1': 2, '2': 1}\n",
      "1 penguin\n",
      "9517proj_sources/off test/image_id_001.png\n",
      "{'1': 2, '2': 1}\n",
      "1 penguin\n",
      "9517proj_sources/off test/image_id_002.png\n",
      "{'1': 2, '2': 1}\n",
      "1 penguin\n",
      "9517proj_sources/off test/image_id_003.png\n",
      "{'1': 1, '2': 2}\n",
      "2 turtle\n",
      "9517proj_sources/off test/image_id_004.png\n",
      "{'1': 2, '2': 1}\n",
      "1 penguin\n",
      "9517proj_sources/off test/image_id_005.png\n",
      "{'1': 1, '2': 2}\n",
      "2 turtle\n",
      "9517proj_sources/off test/image_id_006.png\n",
      "{'1': 2, '2': 1}\n",
      "1 penguin\n",
      "9517proj_sources/off test/image_id_007.png\n",
      "{'1': 1, '2': 2}\n",
      "2 turtle\n",
      "9517proj_sources/off test/image_id_008.png\n",
      "{'1': 3, '2': 0}\n",
      "1 penguin\n",
      "9517proj_sources/off test/image_id_009.png\n",
      "{'1': 3, '2': 0}\n",
      "1 penguin\n",
      "9517proj_sources/off test/image_id_010.png\n",
      "{'1': 1, '2': 2}\n",
      "2 turtle\n",
      "9517proj_sources/off test/image_id_011.png\n",
      "{'1': 1, '2': 2}\n",
      "2 turtle\n",
      "9517proj_sources/off test/image_id_012.png\n",
      "{'1': 1, '2': 2}\n",
      "2 turtle\n",
      "9517proj_sources/off test/image_id_013.png\n",
      "{'1': 1, '2': 2}\n",
      "2 turtle\n",
      "9517proj_sources/off test/image_id_014.png\n",
      "{'1': 2, '2': 1}\n",
      "1 penguin\n",
      "9517proj_sources/off test/image_id_015.png\n",
      "{'1': 3, '2': 0}\n",
      "1 penguin\n",
      "9517proj_sources/off test/image_id_016.png\n",
      "{'1': 2, '2': 1}\n",
      "1 penguin\n",
      "9517proj_sources/off test/image_id_017.png\n",
      "{'1': 1, '2': 2}\n",
      "2 turtle\n",
      "9517proj_sources/off test/image_id_018.png\n",
      "{'1': 2, '2': 1}\n",
      "1 penguin\n",
      "9517proj_sources/off test/image_id_019.png\n",
      "{'1': 1, '2': 2}\n",
      "2 turtle\n",
      "9517proj_sources/off test/image_id_020.png\n",
      "{'1': 1, '2': 2}\n",
      "2 turtle\n",
      "9517proj_sources/off test/image_id_021.png\n",
      "{'1': 0, '2': 3}\n",
      "2 turtle\n",
      "9517proj_sources/off test/image_id_022.png\n",
      "{'1': 1, '2': 2}\n",
      "2 turtle\n",
      "9517proj_sources/off test/image_id_023.png\n",
      "{'1': 1, '2': 2}\n",
      "2 turtle\n",
      "9517proj_sources/off test/image_id_024.png\n",
      "{'1': 2, '2': 1}\n",
      "1 penguin\n",
      "9517proj_sources/off test/image_id_025.png\n",
      "{'1': 2, '2': 1}\n",
      "1 penguin\n",
      "9517proj_sources/off test/image_id_026.png\n",
      "{'1': 1, '2': 2}\n",
      "2 turtle\n",
      "9517proj_sources/off test/image_id_027.png\n",
      "{'1': 3, '2': 0}\n",
      "1 penguin\n",
      "9517proj_sources/off test/image_id_028.png\n",
      "{'1': 1, '2': 2}\n",
      "2 turtle\n",
      "9517proj_sources/off test/image_id_029.png\n",
      "{'1': 1, '2': 2}\n",
      "2 turtle\n",
      "9517proj_sources/off test/image_id_030.png\n",
      "{'1': 2, '2': 1}\n",
      "1 penguin\n",
      "9517proj_sources/off test/image_id_031.png\n",
      "{'1': 1, '2': 2}\n",
      "2 turtle\n",
      "9517proj_sources/off test/image_id_032.png\n",
      "{'1': 1, '2': 2}\n",
      "2 turtle\n",
      "9517proj_sources/off test/image_id_033.png\n",
      "{'1': 1, '2': 2}\n",
      "2 turtle\n",
      "9517proj_sources/off test/image_id_034.png\n",
      "{'1': 1, '2': 2}\n",
      "2 turtle\n",
      "9517proj_sources/off test/image_id_035.png\n",
      "{'1': 2, '2': 1}\n",
      "1 penguin\n",
      "9517proj_sources/off test/image_id_036.png\n",
      "{'1': 2, '2': 1}\n",
      "1 penguin\n",
      "9517proj_sources/off test/image_id_037.png\n",
      "{'1': 1, '2': 2}\n",
      "2 turtle\n",
      "9517proj_sources/off test/image_id_038.png\n",
      "{'1': 2, '2': 1}\n",
      "1 penguin\n",
      "9517proj_sources/off test/image_id_039.png\n",
      "{'1': 2, '2': 1}\n",
      "1 penguin\n",
      "9517proj_sources/off test/image_id_040.png\n",
      "{'1': 1, '2': 2}\n",
      "2 turtle\n",
      "9517proj_sources/off test/image_id_041.png\n",
      "{'1': 2, '2': 1}\n",
      "1 penguin\n",
      "9517proj_sources/off test/image_id_042.png\n",
      "{'1': 2, '2': 1}\n",
      "1 penguin\n",
      "9517proj_sources/off test/image_id_043.png\n",
      "{'1': 1, '2': 2}\n",
      "2 turtle\n",
      "9517proj_sources/off test/image_id_044.png\n",
      "{'1': 1, '2': 2}\n",
      "2 turtle\n",
      "9517proj_sources/off test/image_id_045.png\n",
      "{'1': 2, '2': 1}\n",
      "1 penguin\n",
      "9517proj_sources/off test/image_id_046.png\n",
      "{'1': 1, '2': 2}\n",
      "2 turtle\n",
      "9517proj_sources/off test/image_id_047.png\n",
      "{'1': 1, '2': 2}\n",
      "2 turtle\n",
      "9517proj_sources/off test/image_id_048.png\n",
      "{'1': 3, '2': 0}\n",
      "1 penguin\n",
      "9517proj_sources/off test/image_id_049.png\n",
      "{'1': 2, '2': 1}\n",
      "1 penguin\n",
      "9517proj_sources/off test/image_id_050.png\n",
      "{'1': 2, '2': 1}\n",
      "1 penguin\n",
      "9517proj_sources/off test/image_id_051.png\n",
      "{'1': 2, '2': 1}\n",
      "1 penguin\n",
      "9517proj_sources/off test/image_id_052.png\n",
      "{'1': 1, '2': 2}\n",
      "2 turtle\n",
      "9517proj_sources/off test/image_id_053.png\n",
      "{'1': 2, '2': 1}\n",
      "1 penguin\n",
      "9517proj_sources/off test/image_id_054.png\n",
      "{'1': 1, '2': 2}\n",
      "2 turtle\n",
      "9517proj_sources/off test/image_id_055.png\n",
      "{'1': 2, '2': 1}\n",
      "1 penguin\n",
      "9517proj_sources/off test/image_id_056.png\n",
      "{'1': 1, '2': 2}\n",
      "2 turtle\n",
      "9517proj_sources/off test/image_id_057.png\n",
      "{'1': 2, '2': 1}\n",
      "1 penguin\n",
      "9517proj_sources/off test/image_id_058.png\n",
      "{'1': 0, '2': 3}\n",
      "2 turtle\n",
      "9517proj_sources/off test/image_id_059.png\n",
      "{'1': 3, '2': 0}\n",
      "1 penguin\n",
      "9517proj_sources/off test/image_id_060.png\n",
      "{'1': 2, '2': 1}\n",
      "1 penguin\n",
      "9517proj_sources/off test/image_id_061.png\n",
      "{'1': 1, '2': 2}\n",
      "2 turtle\n",
      "9517proj_sources/off test/image_id_062.png\n",
      "{'1': 1, '2': 2}\n",
      "2 turtle\n",
      "9517proj_sources/off test/image_id_063.png\n",
      "{'1': 2, '2': 1}\n",
      "1 penguin\n",
      "9517proj_sources/off test/image_id_064.png\n",
      "{'1': 3, '2': 0}\n",
      "1 penguin\n",
      "9517proj_sources/off test/image_id_065.png\n",
      "{'1': 2, '2': 1}\n",
      "1 penguin\n",
      "9517proj_sources/off test/image_id_066.png\n",
      "{'1': 1, '2': 2}\n",
      "2 turtle\n",
      "9517proj_sources/off test/image_id_067.png\n",
      "{'1': 1, '2': 2}\n",
      "2 turtle\n",
      "9517proj_sources/off test/image_id_068.png\n",
      "{'1': 1, '2': 2}\n",
      "2 turtle\n",
      "9517proj_sources/off test/image_id_069.png\n",
      "{'1': 3, '2': 0}\n",
      "1 penguin\n",
      "9517proj_sources/off test/image_id_070.png\n",
      "{'1': 2, '2': 1}\n",
      "1 penguin\n",
      "9517proj_sources/off test/image_id_071.png\n",
      "{'1': 1, '2': 2}\n",
      "2 turtle\n",
      "0.5277777777777778\n"
     ]
    }
   ],
   "source": [
    "k= 3\n",
    "file_list = os.listdir(\"9517proj_sources/off test\")\n",
    "for i in range(len(file_list)):\n",
    "    file_list[i] = os.path.join(\"9517proj_sources/off test\", file_list[i])\n",
    "file_list.sort()\n",
    "right = 0\n",
    "times = 0\n",
    "f_p = '9517proj_sources/train_annotations'\n",
    "with open(f_p, 'r') as label_info:\n",
    "    label_info = eval(label_info.read())\n",
    "v_a = '9517proj_sources/valid_annotations'\n",
    "with open(v_a, 'r') as pred_info:\n",
    "    pred_info = eval(pred_info.read())\n",
    "for file in file_list:\n",
    "    print(file)\n",
    "    all_file_one_d_target_matrix = one_d_target(file)\n",
    "    temp = calculate_image_cosine_similarity(all_file_one_d_train_matrix,all_file_one_d_target_matrix)\n",
    "    tuple_list = []\n",
    "    for i in range(len(temp)):\n",
    "        tuple_list.append((i,sum(temp[i])))\n",
    "    result = sorted(tuple_list, key = lambda x:x[1],reverse = True)\n",
    "    vote = {'1':0,'2':0}\n",
    "    for i in range(len(result[:k])):\n",
    "        if label_info[result[i][0]]['category_id'] == 1:\n",
    "            vote['1'] += 1\n",
    "        else:\n",
    "            vote['2'] += 1\n",
    "\n",
    "    print(vote)\n",
    "    if vote['1']>= vote['2']:\n",
    "        if pred_info[times]['category_id'] == 1:\n",
    "            right += 1\n",
    "            times += 1\n",
    "        else:\n",
    "            times += 1\n",
    "        print(1,\"penguin\")\n",
    "    else:\n",
    "        if pred_info[times]['category_id'] == 2:\n",
    "            right += 1\n",
    "            times += 1\n",
    "        else:\n",
    "            times += 1\n",
    "        print(2,\"turtle\")\n",
    "print(right/times)"
   ],
   "metadata": {
    "collapsed": false
   }
  },
  {
   "cell_type": "code",
   "execution_count": null,
   "outputs": [],
   "source": [],
   "metadata": {
    "collapsed": false
   }
  }
 ],
 "metadata": {
  "kernelspec": {
   "display_name": "Python 3",
   "language": "python",
   "name": "python3"
  },
  "language_info": {
   "codemirror_mode": {
    "name": "ipython",
    "version": 2
   },
   "file_extension": ".py",
   "mimetype": "text/x-python",
   "name": "python",
   "nbconvert_exporter": "python",
   "pygments_lexer": "ipython2",
   "version": "2.7.6"
  }
 },
 "nbformat": 4,
 "nbformat_minor": 0
}
