{
 "cells": [
  {
   "cell_type": "code",
   "execution_count": null,
   "metadata": {
    "collapsed": true
   },
   "outputs": [],
   "source": [
    "import cv2\n",
    "import os\n",
    "import json"
   ]
  },
  {
   "cell_type": "code",
   "execution_count": null,
   "outputs": [],
   "source": [
    "folder_path = '../9517proj_sources/train'\n",
    "annotation_path = '../9517proj_sources/train_annotations'\n",
    "\n",
    "with open(annotation_path, 'r') as f:\n",
    "    annotations = json.load(f)\n",
    "    \n",
    "for anno in annotations:\n",
    "    image_id = anno['image_id']\n",
    "    bbox = anno['bbox']\n",
    "    category_id = anno['category_id']\n",
    "    \n",
    "    # build image path, absolute path+ na me\n",
    "    image_file_path = os.path.join(folder_path, f\"image_id_{str(image_id).zfill(3)}.jpg\")\n",
    "    \n",
    "    image = cv2.imread(image_file_path)\n",
    "    \n",
    "    if image is None:\n",
    "        print(f\"File not found: {image_file_path}\")\n",
    "        continue\n",
    "    \n",
    "    # draw bounding box\n",
    "    x, y, width, height = bbox\n",
    "    cv2.rectangle(image, (int(x), int(y)), (int(x+width), int(y+height)), (0, 255, 0), 2)\n",
    "    \n",
    "    # show image"
   ],
   "metadata": {
    "collapsed": false,
    "is_executing": true
   }
  },
  {
   "cell_type": "code",
   "execution_count": null,
   "outputs": [],
   "source": [],
   "metadata": {
    "collapsed": false
   }
  }
 ],
 "metadata": {
  "kernelspec": {
   "display_name": "Python 3",
   "language": "python",
   "name": "python3"
  },
  "language_info": {
   "codemirror_mode": {
    "name": "ipython",
    "version": 2
   },
   "file_extension": ".py",
   "mimetype": "text/x-python",
   "name": "python",
   "nbconvert_exporter": "python",
   "pygments_lexer": "ipython2",
   "version": "2.7.6"
  }
 },
 "nbformat": 4,
 "nbformat_minor": 0
}
